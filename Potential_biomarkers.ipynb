{
  "nbformat": 4,
  "nbformat_minor": 0,
  "metadata": {
    "colab": {
      "provenance": [],
      "authorship_tag": "ABX9TyOBn3CBc8knS5u/OF4te/dD",
      "include_colab_link": true
    },
    "kernelspec": {
      "name": "ir",
      "display_name": "R"
    },
    "language_info": {
      "name": "R"
    },
    "accelerator": "TPU"
  },
  "cells": [
    {
      "cell_type": "markdown",
      "metadata": {
        "id": "view-in-github",
        "colab_type": "text"
      },
      "source": [
        "<a href=\"https://colab.research.google.com/github/Saherpathan/biomarker-detection/blob/main/Potential_biomarkers.ipynb\" target=\"_parent\"><img src=\"https://colab.research.google.com/assets/colab-badge.svg\" alt=\"Open In Colab\"/></a>"
      ]
    },
    {
      "cell_type": "code",
      "source": [
        "# Load libraries\n",
        "library(readr)\n",
        "\n",
        "# Read the data from the CSV file\n",
        "data <- read.csv(\"/content/NSIP v CHP gene list.csv\")\n",
        "\n",
        "# Define column names for log2 fold change and adjusted p-value (replace with actual names)\n",
        "log2_fold_change_col <- \"log2 Fold Change\"  # Replace with your column name\n",
        "adj_pval_col <- \"Adj.Pval\"              # Replace with your column name\n",
        "\n",
        "# Define the p-value cutoff\n",
        "p_cutoff <- 0.05\n",
        "\n",
        "# Filter for genes with a significant adjusted p-value\n",
        "filtered_data <- data[data[, adj_pval_col] < p_cutoff, ]\n",
        "\n"
      ],
      "metadata": {
        "id": "hBlmGvePQ3-u"
      },
      "execution_count": 73,
      "outputs": []
    },
    {
      "cell_type": "code",
      "source": [
        "\n",
        "# Print the filtered data to the console\n",
        "print(filtered_data)\n",
        "\n",
        "# Save the filtered data to a new CSV file\n",
        "write.csv(filtered_data, \"/content/filtered_data.csv\", row.names = FALSE)\n"
      ],
      "metadata": {
        "colab": {
          "base_uri": "https://localhost:8080/"
        },
        "id": "8oOAfqMCThrn",
        "outputId": "dd399754-e99a-4f97-c44c-a1b87261b70e"
      },
      "execution_count": 68,
      "outputs": [
        {
          "output_type": "stream",
          "name": "stdout",
          "text": [
            "       Symbol log2.Fold.Change Adj.Pval\n",
            "1       MUC3A         6.917722  0.03080\n",
            "3       TRPM8         5.856526  0.03330\n",
            "4       MUC17         5.780382  0.02080\n",
            "7     ANKRD33         5.680745  0.03080\n",
            "8     ZNF705A         5.626413  0.03000\n",
            "9        HAS1         5.398978  0.00970\n",
            "10      BTNL3         5.348163  0.04080\n",
            "12     DMRTC2         5.192120  0.02450\n",
            "17      STAB2         4.930709  0.04140\n",
            "18    CYP17A1         4.911687  0.00755\n",
            "19      CXCL8         4.629919  0.00170\n",
            "20      PROK2         4.583502  0.00027\n",
            "23      TEX45         4.246358  0.04030\n",
            "24      NRXN1         4.193398  0.00755\n",
            "25      CXCR1         4.125310  0.00197\n",
            "26      PTGS2         4.124365  0.00163\n",
            "27     GABRA4         4.122582  0.04820\n",
            "28       SEZ6         4.104975  0.00779\n",
            "31        PI3         4.019357  0.02670\n",
            "32     NECAB2         3.982182  0.04220\n",
            "33      HTRA3         3.929659  0.03940\n",
            "34       FCAR         3.876867  0.00771\n",
            "35      TKTL1         3.843384  0.00771\n",
            "36      SSTR3         3.820046  0.01020\n",
            "37      FFAR1         3.776027  0.02300\n",
            "40      CXCR2         3.587469  0.00290\n",
            "41       CCR7         3.538945  0.02720\n",
            "42       MGAM         3.491424  0.00460\n",
            "43      DAAM2         3.482933  0.02030\n",
            "45       SYN1         3.446827  0.01200\n",
            "46     ADGRG3         3.424036  0.00755\n",
            "47  TNFRSF10C         3.416089  0.00970\n",
            "48        CA4         3.412704  0.00406\n",
            "49      LYVE1         3.411367  0.02420\n",
            "51       G0S2         3.365725  0.00279\n",
            "52      HCAR3         3.317988  0.02340\n",
            "53    CACNA1E         3.288016  0.00970\n",
            "54       LRG1         3.258669  0.01450\n",
            "55     FCGR3B         3.255404  0.01740\n",
            "56      CCL20         3.170545  0.02690\n",
            "59     TREML4         3.135646  0.04820\n",
            "62     IFITM2         3.085965  0.01940\n",
            "66    SLC7A11         3.011318  0.04140\n",
            "67     KCNJ15         3.008069  0.01580\n",
            "70      OPRK1         2.983936  0.04930\n",
            "71        OSM         2.981576  0.01520\n",
            "72      RAB3C         2.979336  0.03650\n",
            "73       SELL         2.955502  0.02190\n",
            "74       IL1B         2.945556  0.03490\n",
            "76      CD177         2.862401  0.03080\n",
            "78      BTNL8         2.835940  0.01910\n",
            "79      CCNJL         2.818594  0.01940\n",
            "80      CXCL1         2.818095  0.01890\n",
            "81      RPH3A         2.752124  0.03930\n",
            "82         TG         2.735325  0.01520\n",
            "83      NAMPT         2.732087  0.01830\n",
            "84       BMP6         2.728057  0.01200\n",
            "85    TNFRSF8         2.714252  0.02460\n",
            "86      DGAT2         2.703338  0.01520\n",
            "87    CEACAM3         2.672543  0.03940\n",
            "88      CSF3R         2.670762  0.02280\n",
            "89        ADM         2.663464  0.03490\n",
            "90      IL1R2         2.660036  0.03680\n",
            "91    SLCO4A1         2.646978  0.00958\n",
            "95       MXD1         2.609225  0.01890\n",
            "100     EPHB1         2.535399  0.03000\n",
            "101      RGS2         2.513037  0.02150\n",
            "102    SEMA6B         2.503545  0.03550\n",
            "103  TNFRSF1B         2.492878  0.02720\n",
            "107    TREML2         2.459800  0.04030\n",
            "108     PRDM8         2.451034  0.04080\n",
            "109    DNAH17         2.450204  0.03940\n",
            "111      VNN2         2.433570  0.01240\n",
            "112   SULT1B1         2.413730  0.01140\n",
            "113     IRAG1         2.382111  0.02660\n",
            "116  SLC25A37         2.307212  0.01690\n",
            "117    LILRA2         2.296549  0.02880\n",
            "119     CXCR4         2.279645  0.02280\n",
            "121    CSRNP1         2.266562  0.03940\n",
            "123     PNRC1         2.243627  0.01200\n",
            "124    CHST15         2.221147  0.04920\n",
            "136      AOC1         1.983998  0.02280\n",
            "137      VNN1         1.979387  0.03000\n",
            "138      AREG         1.971144  0.01890\n",
            "139    MBOAT7         1.966349  0.03460\n",
            "140  SERPING1         1.951229  0.03100\n",
            "147      CD55         1.763208  0.03480\n",
            "150      FLT3         1.731440  0.02590\n",
            "152    LPCAT1         1.699258  0.02990\n",
            "158    ADGRA2         1.464280  0.04820\n",
            "162      NOCT         1.215510  0.01070\n",
            "165    IL20RB        -2.046351  0.00771\n"
          ]
        }
      ]
    },
    {
      "cell_type": "markdown",
      "source": [
        "***Data*** ***Analysis***"
      ],
      "metadata": {
        "id": "PYEAyEmQVQwP"
      }
    },
    {
      "cell_type": "code",
      "source": [
        "install.packages(\"limma\")"
      ],
      "metadata": {
        "colab": {
          "base_uri": "https://localhost:8080/"
        },
        "id": "BQiK9kpYVfTB",
        "outputId": "ac90c050-7360-4a95-91ab-fa4b90e433df"
      },
      "execution_count": 59,
      "outputs": [
        {
          "output_type": "stream",
          "name": "stderr",
          "text": [
            "Installing package into ‘/usr/local/lib/R/site-library’\n",
            "(as ‘lib’ is unspecified)\n",
            "\n",
            "Warning message:\n",
            "“package ‘limma’ is not available for this version of R\n",
            "\n",
            "A version of this package for your version of R might be available elsewhere,\n",
            "see the ideas at\n",
            "https://cran.r-project.org/doc/manuals/r-patched/R-admin.html#Installing-packages”\n"
          ]
        }
      ]
    },
    {
      "cell_type": "code",
      "source": [
        "# Identify the most significant gene (assuming top row)\n",
        "most_significant_gene_row <- filtered_data[1, ]  # Select the first row\n"
      ],
      "metadata": {
        "id": "tmmvaN4XVwja"
      },
      "execution_count": 94,
      "outputs": []
    },
    {
      "cell_type": "code",
      "source": [
        "print(nrow(filtered_data))"
      ],
      "metadata": {
        "colab": {
          "base_uri": "https://localhost:8080/"
        },
        "id": "ppuKJES9aVzH",
        "outputId": "d6c24691-1575-4488-f976-e4f6d8646dca"
      },
      "execution_count": 96,
      "outputs": [
        {
          "output_type": "stream",
          "name": "stdout",
          "text": [
            "[1] 92\n"
          ]
        }
      ]
    },
    {
      "cell_type": "code",
      "source": [
        "print(summary(filtered_data))"
      ],
      "metadata": {
        "colab": {
          "base_uri": "https://localhost:8080/"
        },
        "id": "jKYEnnvJa4I_",
        "outputId": "586b650b-1ba7-4412-d66d-f3ca54f14873"
      },
      "execution_count": 97,
      "outputs": [
        {
          "output_type": "stream",
          "name": "stdout",
          "text": [
            "    Symbol          log2.Fold.Change    Adj.Pval      \n",
            " Length:92          Min.   :-2.046   Min.   :0.00027  \n",
            " Class :character   1st Qu.: 2.485   1st Qu.:0.01200  \n",
            " Mode  :character   Median : 2.980   Median :0.02280  \n",
            "                    Mean   : 3.180   Mean   :0.02337  \n",
            "                    3rd Qu.: 3.826   3rd Qu.:0.03465  \n",
            "                    Max.   : 6.918   Max.   :0.04930  \n"
          ]
        }
      ]
    },
    {
      "cell_type": "code",
      "source": [
        "# Access values using $ operator\n",
        "log2_fold_change <- most_significant_gene_row$log2.Fold.Change  # Note the exact column name\n",
        "adjusted_pval <- most_significant_gene_row$Adj.Pval\n",
        "gene_symbol <- most_significant_gene_row$Symbol  # Assuming this is the column name for gene symbol\n",
        "\n",
        "# Check for missing values and handle accordingly\n",
        "if (is.na(log2_fold_change) | is.na(adjusted_pval)) {\n",
        "  cat(\"Warning: Missing values encountered in the most significant gene.\\n\")\n",
        "  cat(\"Potential Biomarker:\", gene_symbol, \"\\n\")\n",
        "  cat(\"Log2 Fold Change:\", log2_fold_change, \"\\n\")  # Print even if NA\n",
        "  cat(\"Adjusted P-value:\", adjusted_pval, \"\\n\")  # Print even if NA\n",
        "} else {\n",
        "  cat(\"Potential Biomarker:\", gene_symbol, \"\\n\")\n",
        "  cat(\"Log2 Fold Change:\", log2_fold_change, \"\\n\")\n",
        "  cat(\"Adjusted P-value:\", adjusted_pval, \"\\n\")\n",
        "}"
      ],
      "metadata": {
        "colab": {
          "base_uri": "https://localhost:8080/"
        },
        "id": "FeoRlVx5ZvMP",
        "outputId": "df8c17e4-a67d-4593-c0a9-92964cff7635"
      },
      "execution_count": 100,
      "outputs": [
        {
          "output_type": "stream",
          "name": "stdout",
          "text": [
            "Potential Biomarker: MUC3A \n",
            "Log2 Fold Change: 6.917722 \n",
            "Adjusted P-value: 0.0308 \n"
          ]
        }
      ]
    },
    {
      "cell_type": "code",
      "source": [],
      "metadata": {
        "id": "MQlnzRUWcNWM"
      },
      "execution_count": null,
      "outputs": []
    }
  ]
}